{
 "cells": [
  {
   "cell_type": "code",
   "execution_count": 1,
   "id": "1c7c523b",
   "metadata": {},
   "outputs": [],
   "source": [
    "import numpy as np\n",
    "import pandas as pd"
   ]
  },
  {
   "cell_type": "markdown",
   "id": "9070648e",
   "metadata": {},
   "source": [
    "## 1. Bench Press"
   ]
  },
  {
   "cell_type": "code",
   "execution_count": 2,
   "id": "715f732b",
   "metadata": {},
   "outputs": [],
   "source": [
    "import pandas as pd\n",
    "\n",
    "data = pd.read_csv('benchpress_coords.csv')\n",
    "\n",
    "data['class'] = data['class'].str.replace('_up', '').str.replace('_down', '')\n",
    "\n",
    "data.to_csv('benchpress_coords_merged.csv', index=False)"
   ]
  },
  {
   "cell_type": "markdown",
   "id": "8e900d2a",
   "metadata": {},
   "source": [
    "## 2. Squat"
   ]
  },
  {
   "cell_type": "code",
   "execution_count": null,
   "id": "16f861e9",
   "metadata": {},
   "outputs": [
    {
     "name": "stderr",
     "output_type": "stream",
     "text": [
      "<>:3: SyntaxWarning: invalid escape sequence '\\H'\n",
      "<>:3: SyntaxWarning: invalid escape sequence '\\H'\n",
      "C:\\Users\\user\\AppData\\Local\\Temp\\ipykernel_13772\\1440563697.py:3: SyntaxWarning: invalid escape sequence '\\H'\n",
      "  data = pd.read_csv('E:\\Holowellness/algorithm\\AI_Exercise_Pose_Feedback\\labeling\\squat\\squat_coords_2.csv')\n"
     ]
    }
   ],
   "source": [
    "import pandas as pd\n",
    "\n",
    "data = pd.read_csv('E:\\Holowellness/algorithm\\AI_Exercise_Pose_Feedback\\labeling\\squat\\squat_coords_3.csv')\n",
    "\n",
    "data['class'] = data['class'].str.replace('_up', '').str.replace('_down', '')\n",
    "\n",
    "data.to_csv('squat_coords_merged_2.csv', index=False)"
   ]
  },
  {
   "cell_type": "markdown",
   "id": "b9264f7b",
   "metadata": {},
   "source": [
    "## 3. Deadlift"
   ]
  },
  {
   "cell_type": "code",
   "execution_count": 4,
   "id": "80ea55ea",
   "metadata": {},
   "outputs": [],
   "source": [
    "import pandas as pd\n",
    "\n",
    "data = pd.read_csv('deadlift_coords.csv')\n",
    "\n",
    "data['class'] = data['class'].str.replace('_up', '').str.replace('_down', '')\n",
    "\n",
    "data.to_csv('deadlift_coords_merged.csv', index=False)"
   ]
  },
  {
   "cell_type": "code",
   "execution_count": null,
   "id": "3f3bc278",
   "metadata": {},
   "outputs": [],
   "source": []
  }
 ],
 "metadata": {
  "kernelspec": {
   "display_name": "venv",
   "language": "python",
   "name": "python3"
  },
  "language_info": {
   "codemirror_mode": {
    "name": "ipython",
    "version": 3
   },
   "file_extension": ".py",
   "mimetype": "text/x-python",
   "name": "python",
   "nbconvert_exporter": "python",
   "pygments_lexer": "ipython3",
   "version": "3.12.7"
  }
 },
 "nbformat": 4,
 "nbformat_minor": 5
}
